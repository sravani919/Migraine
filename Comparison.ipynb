{
 "cells": [
  {
   "cell_type": "code",
   "execution_count": 4,
   "id": "e86294d7-8c0a-40e3-b060-b0fb94bc1765",
   "metadata": {},
   "outputs": [],
   "source": [
    "import pandas as pd\n",
    "import numpy as np\n",
    "from sklearn.model_selection import train_test_split\n",
    "from sklearn.metrics import r2_score\n",
    "from sklearn.ensemble import RandomForestClassifier\n",
    "from sklearn.neighbors import KNeighborsClassifier\n",
    "\n",
    "from sklearn.tree import DecisionTreeClassifier\n",
    "import math\n",
    "from sklearn.neural_network import MLPClassifier\n",
    "from sklearn.metrics import accuracy_score\n",
    "import matplotlib.pyplot as plt\n",
    "import seaborn as sns\n",
    "from sklearn.neighbors import KNeighborsClassifier\n",
    "from sklearn.preprocessing import StandardScaler\n",
    "from sklearn.model_selection import GridSearchCV"
   ]
  },
  {
   "cell_type": "code",
   "execution_count": 5,
   "id": "907a0aa7-8588-492f-b4aa-69ca15920d3c",
   "metadata": {},
   "outputs": [],
   "source": [
    "df=pd.read_csv('data.csv')"
   ]
  },
  {
   "cell_type": "code",
   "execution_count": 6,
   "id": "2a56094c-221e-4de5-8c0c-b88af0252e86",
   "metadata": {},
   "outputs": [
    {
     "data": {
      "text/html": [
       "<div>\n",
       "<style scoped>\n",
       "    .dataframe tbody tr th:only-of-type {\n",
       "        vertical-align: middle;\n",
       "    }\n",
       "\n",
       "    .dataframe tbody tr th {\n",
       "        vertical-align: top;\n",
       "    }\n",
       "\n",
       "    .dataframe thead th {\n",
       "        text-align: right;\n",
       "    }\n",
       "</style>\n",
       "<table border=\"1\" class=\"dataframe\">\n",
       "  <thead>\n",
       "    <tr style=\"text-align: right;\">\n",
       "      <th></th>\n",
       "      <th>Age</th>\n",
       "      <th>Duration</th>\n",
       "      <th>Frequency</th>\n",
       "      <th>Location</th>\n",
       "      <th>Character</th>\n",
       "      <th>Intensity</th>\n",
       "      <th>Nausea</th>\n",
       "      <th>Vomit</th>\n",
       "      <th>Phonophobia</th>\n",
       "      <th>Photophobia</th>\n",
       "      <th>...</th>\n",
       "      <th>Vertigo</th>\n",
       "      <th>Tinnitus</th>\n",
       "      <th>Hypoacusis</th>\n",
       "      <th>Diplopia</th>\n",
       "      <th>Defect</th>\n",
       "      <th>Ataxia</th>\n",
       "      <th>Conscience</th>\n",
       "      <th>Paresthesia</th>\n",
       "      <th>DPF</th>\n",
       "      <th>Type</th>\n",
       "    </tr>\n",
       "  </thead>\n",
       "  <tbody>\n",
       "    <tr>\n",
       "      <th>0</th>\n",
       "      <td>30</td>\n",
       "      <td>1</td>\n",
       "      <td>5</td>\n",
       "      <td>1</td>\n",
       "      <td>1</td>\n",
       "      <td>2</td>\n",
       "      <td>1</td>\n",
       "      <td>0</td>\n",
       "      <td>1</td>\n",
       "      <td>1</td>\n",
       "      <td>...</td>\n",
       "      <td>0</td>\n",
       "      <td>0</td>\n",
       "      <td>0</td>\n",
       "      <td>0</td>\n",
       "      <td>0</td>\n",
       "      <td>0</td>\n",
       "      <td>0</td>\n",
       "      <td>0</td>\n",
       "      <td>0</td>\n",
       "      <td>Typical aura with migraine</td>\n",
       "    </tr>\n",
       "    <tr>\n",
       "      <th>1</th>\n",
       "      <td>50</td>\n",
       "      <td>3</td>\n",
       "      <td>5</td>\n",
       "      <td>1</td>\n",
       "      <td>1</td>\n",
       "      <td>3</td>\n",
       "      <td>1</td>\n",
       "      <td>1</td>\n",
       "      <td>1</td>\n",
       "      <td>1</td>\n",
       "      <td>...</td>\n",
       "      <td>1</td>\n",
       "      <td>0</td>\n",
       "      <td>0</td>\n",
       "      <td>0</td>\n",
       "      <td>0</td>\n",
       "      <td>0</td>\n",
       "      <td>0</td>\n",
       "      <td>0</td>\n",
       "      <td>0</td>\n",
       "      <td>Typical aura with migraine</td>\n",
       "    </tr>\n",
       "    <tr>\n",
       "      <th>2</th>\n",
       "      <td>53</td>\n",
       "      <td>2</td>\n",
       "      <td>1</td>\n",
       "      <td>1</td>\n",
       "      <td>1</td>\n",
       "      <td>2</td>\n",
       "      <td>1</td>\n",
       "      <td>1</td>\n",
       "      <td>1</td>\n",
       "      <td>1</td>\n",
       "      <td>...</td>\n",
       "      <td>0</td>\n",
       "      <td>0</td>\n",
       "      <td>0</td>\n",
       "      <td>0</td>\n",
       "      <td>0</td>\n",
       "      <td>0</td>\n",
       "      <td>0</td>\n",
       "      <td>0</td>\n",
       "      <td>0</td>\n",
       "      <td>Typical aura with migraine</td>\n",
       "    </tr>\n",
       "    <tr>\n",
       "      <th>3</th>\n",
       "      <td>45</td>\n",
       "      <td>3</td>\n",
       "      <td>5</td>\n",
       "      <td>1</td>\n",
       "      <td>1</td>\n",
       "      <td>3</td>\n",
       "      <td>1</td>\n",
       "      <td>0</td>\n",
       "      <td>1</td>\n",
       "      <td>1</td>\n",
       "      <td>...</td>\n",
       "      <td>1</td>\n",
       "      <td>0</td>\n",
       "      <td>0</td>\n",
       "      <td>0</td>\n",
       "      <td>0</td>\n",
       "      <td>0</td>\n",
       "      <td>0</td>\n",
       "      <td>0</td>\n",
       "      <td>0</td>\n",
       "      <td>Typical aura with migraine</td>\n",
       "    </tr>\n",
       "    <tr>\n",
       "      <th>4</th>\n",
       "      <td>53</td>\n",
       "      <td>1</td>\n",
       "      <td>1</td>\n",
       "      <td>1</td>\n",
       "      <td>1</td>\n",
       "      <td>2</td>\n",
       "      <td>1</td>\n",
       "      <td>0</td>\n",
       "      <td>1</td>\n",
       "      <td>1</td>\n",
       "      <td>...</td>\n",
       "      <td>0</td>\n",
       "      <td>0</td>\n",
       "      <td>0</td>\n",
       "      <td>0</td>\n",
       "      <td>0</td>\n",
       "      <td>0</td>\n",
       "      <td>0</td>\n",
       "      <td>0</td>\n",
       "      <td>1</td>\n",
       "      <td>Typical aura with migraine</td>\n",
       "    </tr>\n",
       "  </tbody>\n",
       "</table>\n",
       "<p>5 rows × 24 columns</p>\n",
       "</div>"
      ],
      "text/plain": [
       "   Age  Duration  Frequency  Location  Character  Intensity  Nausea  Vomit  \\\n",
       "0   30         1          5         1          1          2       1      0   \n",
       "1   50         3          5         1          1          3       1      1   \n",
       "2   53         2          1         1          1          2       1      1   \n",
       "3   45         3          5         1          1          3       1      0   \n",
       "4   53         1          1         1          1          2       1      0   \n",
       "\n",
       "   Phonophobia  Photophobia  ...  Vertigo  Tinnitus  Hypoacusis  Diplopia  \\\n",
       "0            1            1  ...        0         0           0         0   \n",
       "1            1            1  ...        1         0           0         0   \n",
       "2            1            1  ...        0         0           0         0   \n",
       "3            1            1  ...        1         0           0         0   \n",
       "4            1            1  ...        0         0           0         0   \n",
       "\n",
       "   Defect  Ataxia  Conscience  Paresthesia  DPF                        Type  \n",
       "0       0       0           0            0    0  Typical aura with migraine  \n",
       "1       0       0           0            0    0  Typical aura with migraine  \n",
       "2       0       0           0            0    0  Typical aura with migraine  \n",
       "3       0       0           0            0    0  Typical aura with migraine  \n",
       "4       0       0           0            0    1  Typical aura with migraine  \n",
       "\n",
       "[5 rows x 24 columns]"
      ]
     },
     "execution_count": 6,
     "metadata": {},
     "output_type": "execute_result"
    }
   ],
   "source": [
    "df.head()"
   ]
  },
  {
   "cell_type": "code",
   "execution_count": 7,
   "id": "4fe8374e-ac01-4813-aaaa-35d4ffb56b9a",
   "metadata": {},
   "outputs": [
    {
     "data": {
      "text/plain": [
       "(400, 24)"
      ]
     },
     "execution_count": 7,
     "metadata": {},
     "output_type": "execute_result"
    }
   ],
   "source": [
    "df.shape"
   ]
  },
  {
   "cell_type": "code",
   "execution_count": 8,
   "id": "261ef95b-e9f3-430c-a5ef-acc0142df783",
   "metadata": {},
   "outputs": [],
   "source": [
    "target_names=list(df['Type'].unique())"
   ]
  },
  {
   "cell_type": "code",
   "execution_count": 47,
   "id": "62cae7d2-18a2-4f9d-b8e3-27a337b17dc6",
   "metadata": {},
   "outputs": [],
   "source": [
    "df_new = pd.concat([df] * 2500, ignore_index=True)"
   ]
  },
  {
   "cell_type": "code",
   "execution_count": 9,
   "id": "08e4b4d3-7b30-4089-a0da-136cde897114",
   "metadata": {},
   "outputs": [
    {
     "name": "stderr",
     "output_type": "stream",
     "text": [
      "/local_scratch/pbs.555512.pbs02/ipykernel_1233724/1006572068.py:1: FutureWarning: In a future version of pandas all arguments of DataFrame.drop except for the argument 'labels' will be keyword-only.\n",
      "  x=df.drop(['Type'],1)\n"
     ]
    }
   ],
   "source": [
    "x=df.drop(['Type'],1)\n",
    "y=df['Type'].copy()"
   ]
  },
  {
   "cell_type": "code",
   "execution_count": 10,
   "id": "4a10d1f9-eed6-4321-a0c1-13079dd36e3b",
   "metadata": {},
   "outputs": [],
   "source": [
    "xtrain, xtest, ytrain, ytest = train_test_split(x,y, test_size = 0.3, random_state = 101)"
   ]
  },
  {
   "cell_type": "code",
   "execution_count": 11,
   "id": "4376f347-9f71-41cc-aae6-01b3a5a618b3",
   "metadata": {},
   "outputs": [],
   "source": [
    "scaler=StandardScaler()\n",
    "X_train_scale=scaler.fit_transform(xtrain)\n",
    "X_test_scale = scaler.transform(xtest)"
   ]
  },
  {
   "cell_type": "code",
   "execution_count": 12,
   "id": "ad7cad3f-1150-4d4b-b568-abde87dbca40",
   "metadata": {},
   "outputs": [
    {
     "name": "stdout",
     "output_type": "stream",
     "text": [
      "accuracy 0.8666666666666667\n"
     ]
    }
   ],
   "source": [
    "kRange = range(1,15,1)\n",
    "\n",
    "scores_list = []\n",
    "\n",
    "for i in kRange:\n",
    "    knn =  KNeighborsClassifier(n_neighbors = i)\n",
    "    knn.fit(X_train_scale,ytrain)\n",
    "    ypredr = knn.predict(X_test_scale)\n",
    "Acc_KNN=accuracy_score(ypredr, ytest)\n",
    "\n",
    "print('accuracy',Acc_KNN)"
   ]
  },
  {
   "cell_type": "code",
   "execution_count": 13,
   "id": "c77d91b6-af2e-4bc9-b200-96a6fdb15766",
   "metadata": {},
   "outputs": [
    {
     "name": "stdout",
     "output_type": "stream",
     "text": [
      "accuracy 0.8166666666666667\n"
     ]
    }
   ],
   "source": [
    "dtr = DecisionTreeClassifier(random_state=32)\n",
    "dtr.fit(X_train_scale, ytrain)\n",
    "ypreddtf = dtr.predict(X_test_scale)\n",
    "Acc_DTC=accuracy_score(ypreddtf, ytest)\n",
    "print('accuracy',Acc_DTC)"
   ]
  },
  {
   "cell_type": "code",
   "execution_count": 14,
   "id": "db644647-fe0f-48d8-9859-2a5fbf9f1312",
   "metadata": {},
   "outputs": [
    {
     "name": "stdout",
     "output_type": "stream",
     "text": [
      "accuracy 0.8916666666666667\n"
     ]
    },
    {
     "name": "stderr",
     "output_type": "stream",
     "text": [
      "/software/spackages/linux-rocky8-x86_64/gcc-9.5.0/anaconda3-2022.05-zyrazrj6uvrtukupqzhaslr63w7hj6in/lib/python3.9/site-packages/sklearn/neural_network/_multilayer_perceptron.py:692: ConvergenceWarning: Stochastic Optimizer: Maximum iterations (200) reached and the optimization hasn't converged yet.\n",
      "  warnings.warn(\n"
     ]
    }
   ],
   "source": [
    "# Create MLP model\n",
    "mlp = MLPClassifier(activation='relu',\n",
    "                    hidden_layer_sizes=(6,5),\n",
    "                    random_state=5,\n",
    "                    verbose=False,\n",
    "                    learning_rate_init=0.01)\n",
    "\n",
    "# Fit the trained data into model\n",
    "mlp.fit(X_train_scale, ytrain)\n",
    "\n",
    "# Get predicted class values for each iteration\n",
    "ypredmlp = mlp.predict(X_test_scale)\n",
    "\n",
    "# Calculate accuracy score\n",
    "Acc_mlp=accuracy_score(ypredmlp,ytest)\n",
    "\n",
    "print('accuracy', Acc_mlp)"
   ]
  },
  {
   "cell_type": "code",
   "execution_count": 15,
   "id": "c3d4a39c-aae6-4d86-82a9-70fc64198dec",
   "metadata": {},
   "outputs": [
    {
     "name": "stdout",
     "output_type": "stream",
     "text": [
      "                               precision    recall  f1-score   support\n",
      "\n",
      "   Typical aura with migraine       0.50      0.67      0.57         3\n",
      "        Migraine without aura       0.75      0.38      0.50         8\n",
      "            Basilar-type aura       0.94      1.00      0.97        15\n",
      " Sporadic hemiplegic migraine       0.75      0.75      0.75         4\n",
      " Familial hemiplegic migraine       0.29      0.67      0.40         3\n",
      "                        Other       0.96      0.94      0.95        80\n",
      "Typical aura without migraine       1.00      1.00      1.00         7\n",
      "\n",
      "                     accuracy                           0.89       120\n",
      "                    macro avg       0.74      0.77      0.73       120\n",
      "                 weighted avg       0.91      0.89      0.89       120\n",
      "\n"
     ]
    }
   ],
   "source": [
    "# MLP\n",
    "from sklearn.metrics import classification_report\n",
    "print(classification_report(ytest, ypredmlp, target_names=target_names))"
   ]
  },
  {
   "cell_type": "code",
   "execution_count": 16,
   "id": "c8ed8b90-31b1-419d-9d07-ef0255e7d1b4",
   "metadata": {},
   "outputs": [
    {
     "data": {
      "text/plain": [
       "{'activation': 'relu',\n",
       " 'alpha': 0.0001,\n",
       " 'batch_size': 'auto',\n",
       " 'beta_1': 0.9,\n",
       " 'beta_2': 0.999,\n",
       " 'early_stopping': False,\n",
       " 'epsilon': 1e-08,\n",
       " 'hidden_layer_sizes': (6, 5),\n",
       " 'learning_rate': 'constant',\n",
       " 'learning_rate_init': 0.01,\n",
       " 'max_fun': 15000,\n",
       " 'max_iter': 200,\n",
       " 'momentum': 0.9,\n",
       " 'n_iter_no_change': 10,\n",
       " 'nesterovs_momentum': True,\n",
       " 'power_t': 0.5,\n",
       " 'random_state': 5,\n",
       " 'shuffle': True,\n",
       " 'solver': 'adam',\n",
       " 'tol': 0.0001,\n",
       " 'validation_fraction': 0.1,\n",
       " 'verbose': False,\n",
       " 'warm_start': False}"
      ]
     },
     "execution_count": 16,
     "metadata": {},
     "output_type": "execute_result"
    }
   ],
   "source": [
    "mlp.get_params()"
   ]
  },
  {
   "cell_type": "code",
   "execution_count": 17,
   "id": "07e0f654-6663-4323-80ef-41230ab3b7b6",
   "metadata": {},
   "outputs": [
    {
     "name": "stdout",
     "output_type": "stream",
     "text": [
      "Confusion matrix:\n",
      "[[ 2  0  0  1  0  0  0]\n",
      " [ 0  3  0  0  3  2  0]\n",
      " [ 0  0 15  0  0  0  0]\n",
      " [ 1  0  0  3  0  0  0]\n",
      " [ 0  0  0  0  2  1  0]\n",
      " [ 1  1  1  0  2 75  0]\n",
      " [ 0  0  0  0  0  0  7]]\n"
     ]
    }
   ],
   "source": [
    "from sklearn.metrics import confusion_matrix\n",
    "\n",
    "cm = confusion_matrix(ytest, ypredmlp)\n",
    "print(\"Confusion matrix:\")\n",
    "print(cm)"
   ]
  },
  {
   "cell_type": "code",
   "execution_count": 18,
   "id": "0acf2895-ac12-4c96-acaf-aeda47b97a54",
   "metadata": {},
   "outputs": [
    {
     "data": {
      "image/png": "[encoded data removed]",
      "text/plain": [
       "<Figure size 720x720 with 2 Axes>"
      ]
     },
     "metadata": {
      "needs_background": "light"
     },
     "output_type": "display_data"
    }
   ],
   "source": [
    "# Plot the confusion matrix as a heatmap\n",
    "fig, ax = plt.subplots(figsize=(10, 10))\n",
    "im = ax.imshow(cm, cmap='Oranges')\n",
    "\n",
    "# Add labels and colorbar\n",
    "ax.set_xticks(np.arange(7))\n",
    "ax.set_yticks(np.arange(7))\n",
    "plt.setp(ax.get_xticklabels(), rotation=45, ha=\"right\", rotation_mode=\"anchor\")\n",
    "for i in range(7):\n",
    "    for j in range(7):\n",
    "        text = ax.text(j, i, cm[i, j],\n",
    "                       ha=\"center\", va=\"center\", color=\"black\")\n",
    "cbar = ax.figure.colorbar(im, ax=ax)\n",
    "\n",
    "# Add title and axis labels\n",
    "ax.set_title(\"Confusion matrix for MLP classifier\")\n",
    "ax.set_xlabel(\"Predicted label\")\n",
    "ax.set_ylabel(\"True label\")\n",
    "plt.show()"
   ]
  },
  {
   "cell_type": "code",
   "execution_count": 19,
   "id": "cbc94fad-e4ef-451e-9085-9ff08b41b72a",
   "metadata": {},
   "outputs": [
    {
     "name": "stdout",
     "output_type": "stream",
     "text": [
      "accuracy 0.925\n"
     ]
    }
   ],
   "source": [
    "from sklearn import svm\n",
    "clf = svm.SVC(kernel='rbf', C = 1.0)\n",
    "clf.fit(X_train_scale, ytrain)\n",
    "ypredclf = clf.predict(X_test_scale)\n",
    "Acc_clf=accuracy_score(ytest,ypredclf)\n",
    "print('accuracy',Acc_clf)"
   ]
  },
  {
   "cell_type": "code",
   "execution_count": 20,
   "id": "c1922645-031a-4b84-8b7f-6660eff5432a",
   "metadata": {},
   "outputs": [
    {
     "name": "stdout",
     "output_type": "stream",
     "text": [
      "                               precision    recall  f1-score   support\n",
      "\n",
      "   Typical aura with migraine       0.75      1.00      0.86         3\n",
      "        Migraine without aura       1.00      0.25      0.40         8\n",
      "            Basilar-type aura       0.94      1.00      0.97        15\n",
      " Sporadic hemiplegic migraine       1.00      1.00      1.00         4\n",
      " Familial hemiplegic migraine       0.60      1.00      0.75         3\n",
      "                        Other       0.94      0.96      0.95        80\n",
      "Typical aura without migraine       1.00      1.00      1.00         7\n",
      "\n",
      "                     accuracy                           0.93       120\n",
      "                    macro avg       0.89      0.89      0.85       120\n",
      "                 weighted avg       0.94      0.93      0.91       120\n",
      "\n"
     ]
    }
   ],
   "source": [
    "# SVC\n",
    "from sklearn.metrics import classification_report\n",
    "print(classification_report(ytest, ypredclf, target_names=target_names))"
   ]
  },
  {
   "cell_type": "code",
   "execution_count": 21,
   "id": "5785b110-7e1c-490f-8eba-0b887477cd09",
   "metadata": {},
   "outputs": [
    {
     "name": "stdout",
     "output_type": "stream",
     "text": [
      "accuracy 0.9333333333333333\n"
     ]
    }
   ],
   "source": [
    "rfr = RandomForestClassifier(random_state= 32)\n",
    "rfr.fit(X_train_scale, ytrain)\n",
    "ypredrfr = rfr.predict(X_test_scale)\n",
    "Acc_RF=accuracy_score(ypredrfr,ytest)\n",
    "print('accuracy',Acc_RF)"
   ]
  },
  {
   "cell_type": "code",
   "execution_count": 22,
   "id": "b05bbabf-0ac6-4fb8-9e28-09cd6689786f",
   "metadata": {},
   "outputs": [
    {
     "name": "stdout",
     "output_type": "stream",
     "text": [
      "                               precision    recall  f1-score   support\n",
      "\n",
      "   Typical aura with migraine       0.60      1.00      0.75         3\n",
      "        Migraine without aura       1.00      0.38      0.55         8\n",
      "            Basilar-type aura       0.94      1.00      0.97        15\n",
      " Sporadic hemiplegic migraine       1.00      0.75      0.86         4\n",
      " Familial hemiplegic migraine       0.67      0.67      0.67         3\n",
      "                        Other       0.95      0.99      0.97        80\n",
      "Typical aura without migraine       1.00      1.00      1.00         7\n",
      "\n",
      "                     accuracy                           0.93       120\n",
      "                    macro avg       0.88      0.83      0.82       120\n",
      "                 weighted avg       0.94      0.93      0.93       120\n",
      "\n"
     ]
    }
   ],
   "source": [
    "# RF\n",
    "from sklearn.metrics import classification_report\n",
    "print(classification_report(ytest, ypredrfr, target_names=target_names))"
   ]
  },
  {
   "cell_type": "code",
   "execution_count": 29,
   "id": "e9822f4d-a6b2-4cbd-9c77-14572b5ddae7",
   "metadata": {},
   "outputs": [
    {
     "data": {
      "text/plain": [
       "Index(['feature', 'importance'], dtype='object')"
      ]
     },
     "execution_count": 29,
     "metadata": {},
     "output_type": "execute_result"
    }
   ],
   "source": [
    "feature_importances_df = pd.DataFrame(\n",
    "    {\"feature\": list(x.columns), \"importance\": rfr.feature_importances_}\n",
    ").sort_values(\"importance\", ascending=False)\n",
    "\n",
    "# Display\n",
    "feature_importances_df.columns"
   ]
  },
  {
   "cell_type": "code",
   "execution_count": 91,
   "id": "2c1c8119-4c44-4418-9082-a8e5bbf697f3",
   "metadata": {},
   "outputs": [
    {
     "name": "stdout",
     "output_type": "stream",
     "text": [
      "roc_auc_score for RF for Other Type vs Rest:  0.7801724137931034\n"
     ]
    },
    {
     "data": {
      "image/png": "[encoded data removed]",
      "text/plain": [
       "<Figure size 720x720 with 1 Axes>"
      ]
     },
     "metadata": {},
     "output_type": "display_data"
    }
   ],
   "source": [
    "from sklearn.metrics import roc_curve, roc_auc_score\n",
    "\n",
    "#y_testv1 = np.array(ytest[\"Type\"])\n",
    "y_testv1 = ytest.to_numpy()\n",
    "\n",
    "\n",
    "y_testv1 = [1 if y == 'Other' else 0 for y in y_testv1]\n",
    "\n",
    "y_scorev1 = rfr.predict_proba(X_test_scale)[:,0]     \n",
    "\n",
    "false_positive_rate1, true_positive_rate1, threshold1 = roc_curve(y_testv1, y_scorev1)\n",
    "\n",
    "print('roc_auc_score for RF for Other Type vs Rest: ', roc_auc_score(y_testv1, y_scorev1))\n",
    "\n",
    "plt.subplots(1, figsize=(10,10))\n",
    "plt.title('ROC - Random Forest for Other Type')\n",
    "plt.plot(false_positive_rate1, true_positive_rate1)\n",
    "plt.plot([0, 1], ls=\"--\")\n",
    "plt.plot([0, 0], [1, 0] , c=\".7\"), plt.plot([1, 1] , c=\".7\")\n",
    "plt.ylabel('True Positive Rate')\n",
    "plt.xlabel('False Positive Rate')\n",
    "plt.legend(['Other Type', 'Rest'])\n",
    "plt.show()"
   ]
  },
  {
   "cell_type": "code",
   "execution_count": 98,
   "id": "0901650f-f77f-40a3-822d-07d6f8acfec2",
   "metadata": {},
   "outputs": [
    {
     "name": "stderr",
     "output_type": "stream",
     "text": [
      "/software/spackages/linux-rocky8-x86_64/gcc-9.5.0/anaconda3-2022.05-zyrazrj6uvrtukupqzhaslr63w7hj6in/lib/python3.9/site-packages/seaborn/distributions.py:2619: FutureWarning: `distplot` is a deprecated function and will be removed in a future version. Please adapt your code to use either `displot` (a figure-level function with similar flexibility) or `kdeplot` (an axes-level function for kernel density plots).\n",
      "  warnings.warn(msg, FutureWarning)\n",
      "/software/spackages/linux-rocky8-x86_64/gcc-9.5.0/anaconda3-2022.05-zyrazrj6uvrtukupqzhaslr63w7hj6in/lib/python3.9/site-packages/seaborn/distributions.py:2619: FutureWarning: `distplot` is a deprecated function and will be removed in a future version. Please adapt your code to use either `displot` (a figure-level function with similar flexibility) or `kdeplot` (an axes-level function for kernel density plots).\n",
      "  warnings.warn(msg, FutureWarning)\n"
     ]
    },
    {
     "data": {
      "image/png": "[encoded data removed]",
      "text/plain": [
       "<Figure size 720x720 with 1 Axes>"
      ]
     },
     "metadata": {},
     "output_type": "display_data"
    }
   ],
   "source": [
    "import seaborn as sns\n",
    "plt.figure(figsize=(10, 10))\n",
    "\n",
    "y_testv1 = ytest.to_numpy()\n",
    "\n",
    "y_testv1 = [1 if y == 'Other' else 0 for y in y_testv1]\n",
    "\n",
    "y_scorev1 = rfr.predict_proba(X_test_scale)[:,0] \n",
    "\n",
    "ax = sns.distplot(y_scorev1, hist=False, color=\"r\", label=\"Actual Type Valu\")\n",
    "sns.distplot(y_testv1, hist=False, color=\"b\", label=\"Fitted Type Values\" , ax=ax)\n",
    "\n",
    "plt.title('Actual vs Fitted Type')\n",
    "plt.legend(['Actual', 'Fitted'])\n",
    "plt.show()\n",
    "plt.close()"
   ]
  },
  {
   "cell_type": "code",
   "execution_count": 82,
   "id": "4aad9f88-35ae-49f6-926c-56efd645712d",
   "metadata": {},
   "outputs": [
    {
     "data": {
      "text/plain": [
       "array(['Migraine without aura', 'Basilar-type aura',\n",
       "       'Typical aura with migraine', 'Typical aura with migraine',\n",
       "       'Typical aura with migraine', 'Typical aura with migraine',\n",
       "       'Typical aura with migraine', 'Typical aura with migraine',\n",
       "       'Typical aura with migraine', 'Typical aura with migraine',\n",
       "       'Typical aura with migraine', 'Sporadic hemiplegic migraine',\n",
       "       'Typical aura with migraine', 'Typical aura with migraine',\n",
       "       'Other', 'Typical aura with migraine',\n",
       "       'Typical aura with migraine', 'Typical aura with migraine',\n",
       "       'Typical aura without migraine', 'Migraine without aura',\n",
       "       'Typical aura with migraine', 'Familial hemiplegic migraine',\n",
       "       'Other', 'Typical aura with migraine',\n",
       "       'Familial hemiplegic migraine', 'Typical aura with migraine',\n",
       "       'Typical aura with migraine', 'Typical aura without migraine',\n",
       "       'Typical aura with migraine', 'Typical aura with migraine',\n",
       "       'Typical aura with migraine', 'Typical aura with migraine',\n",
       "       'Typical aura with migraine', 'Typical aura with migraine',\n",
       "       'Typical aura with migraine', 'Typical aura with migraine',\n",
       "       'Sporadic hemiplegic migraine', 'Typical aura without migraine',\n",
       "       'Basilar-type aura', 'Typical aura with migraine',\n",
       "       'Typical aura with migraine', 'Migraine without aura',\n",
       "       'Typical aura with migraine', 'Typical aura with migraine',\n",
       "       'Familial hemiplegic migraine', 'Typical aura with migraine',\n",
       "       'Typical aura with migraine', 'Typical aura with migraine',\n",
       "       'Typical aura with migraine', 'Migraine without aura',\n",
       "       'Typical aura without migraine', 'Typical aura with migraine',\n",
       "       'Typical aura with migraine', 'Typical aura with migraine',\n",
       "       'Familial hemiplegic migraine', 'Migraine without aura',\n",
       "       'Familial hemiplegic migraine', 'Migraine without aura',\n",
       "       'Typical aura with migraine', 'Other', 'Basilar-type aura',\n",
       "       'Familial hemiplegic migraine', 'Migraine without aura',\n",
       "       'Typical aura with migraine', 'Typical aura with migraine',\n",
       "       'Typical aura with migraine', 'Typical aura with migraine',\n",
       "       'Other', 'Typical aura with migraine',\n",
       "       'Typical aura with migraine', 'Typical aura with migraine',\n",
       "       'Typical aura with migraine', 'Migraine without aura',\n",
       "       'Migraine without aura', 'Typical aura with migraine',\n",
       "       'Typical aura with migraine', 'Typical aura with migraine',\n",
       "       'Typical aura with migraine', 'Typical aura with migraine',\n",
       "       'Typical aura with migraine', 'Typical aura with migraine',\n",
       "       'Typical aura with migraine', 'Migraine without aura',\n",
       "       'Typical aura with migraine', 'Typical aura with migraine',\n",
       "       'Familial hemiplegic migraine', 'Typical aura with migraine',\n",
       "       'Familial hemiplegic migraine', 'Migraine without aura',\n",
       "       'Typical aura without migraine', 'Typical aura with migraine',\n",
       "       'Typical aura with migraine', 'Typical aura with migraine',\n",
       "       'Typical aura with migraine', 'Typical aura without migraine',\n",
       "       'Typical aura with migraine', 'Typical aura with migraine',\n",
       "       'Typical aura with migraine', 'Typical aura without migraine',\n",
       "       'Typical aura with migraine', 'Migraine without aura',\n",
       "       'Typical aura with migraine', 'Typical aura with migraine',\n",
       "       'Typical aura with migraine', 'Typical aura with migraine',\n",
       "       'Typical aura with migraine', 'Sporadic hemiplegic migraine',\n",
       "       'Typical aura with migraine', 'Typical aura with migraine',\n",
       "       'Typical aura with migraine', 'Typical aura with migraine',\n",
       "       'Typical aura with migraine', 'Migraine without aura',\n",
       "       'Typical aura with migraine', 'Migraine without aura',\n",
       "       'Typical aura with migraine', 'Typical aura with migraine',\n",
       "       'Migraine without aura', 'Typical aura with migraine',\n",
       "       'Typical aura with migraine'], dtype=object)"
      ]
     },
     "execution_count": 82,
     "metadata": {},
     "output_type": "execute_result"
    }
   ],
   "source": [
    "ytest.to_numpy()"
   ]
  },
  {
   "cell_type": "code",
   "execution_count": 79,
   "id": "d46d9c5a-8fed-4ce4-841b-ecdf0feaa208",
   "metadata": {},
   "outputs": [
    {
     "data": {
      "text/plain": [
       "pandas.core.series.Series"
      ]
     },
     "execution_count": 79,
     "metadata": {},
     "output_type": "execute_result"
    }
   ],
   "source": [
    "type(ytest)"
   ]
  },
  {
   "cell_type": "code",
   "execution_count": 30,
   "id": "d2bc0345-4c05-457d-b651-f88f647b8297",
   "metadata": {},
   "outputs": [
    {
     "data": {
      "image/png": "[encoded data removed]",
      "text/plain": [
       "<Figure size 720x576 with 1 Axes>"
      ]
     },
     "metadata": {},
     "output_type": "display_data"
    }
   ],
   "source": [
    "import seaborn as sns\n",
    "import matplotlib.pyplot as plt\n",
    "\n",
    "# Assuming your data is stored in a pandas DataFrame named df\n",
    "sns.set_style('whitegrid')\n",
    "fig, ax = plt.subplots(figsize=(10, 8))\n",
    "sns.barplot(x='importance', y='feature', data=feature_importances_df, ax=ax)\n",
    "ax.set_title('Feature Importance Plot')\n",
    "plt.show()"
   ]
  },
  {
   "cell_type": "code",
   "execution_count": 17,
   "id": "d63bb334-2a5e-4a82-87c5-19821b1938ea",
   "metadata": {},
   "outputs": [
    {
     "name": "stdout",
     "output_type": "stream",
     "text": [
      "accuracy 0.8583333333333333\n"
     ]
    }
   ],
   "source": [
    "param_grid = {\n",
    "        'hidden_layer_sizes': [(7, 7), (128,), (128, 7)],\n",
    "        'tol': [1e-2, 1e-3, 1e-4, 1e-5, 1e-6],\n",
    "        'epsilon': [1e-3, 1e-7, 1e-8, 1e-9, 1e-8]\n",
    "    }\n",
    "estimator = GridSearchCV(\n",
    "        MLPClassifier(learning_rate='adaptive', learning_rate_init=1., early_stopping=True, shuffle=True),\n",
    "        param_grid=param_grid, n_jobs=-1)\n",
    "estimator.fit(X_train_scale, ytrain)\n",
    "grid_predictions = estimator.predict(X_test_scale)\n",
    "Acc_grid_mlp=accuracy_score(grid_predictions,ytest)\n",
    "print('accuracy',Acc_grid_mlp)"
   ]
  },
  {
   "cell_type": "code",
   "execution_count": 18,
   "id": "6a147aa7-b484-4f86-8131-a1d852cf0df8",
   "metadata": {},
   "outputs": [
    {
     "data": {
      "text/html": [
       "<div>\n",
       "<style scoped>\n",
       "    .dataframe tbody tr th:only-of-type {\n",
       "        vertical-align: middle;\n",
       "    }\n",
       "\n",
       "    .dataframe tbody tr th {\n",
       "        vertical-align: top;\n",
       "    }\n",
       "\n",
       "    .dataframe thead th {\n",
       "        text-align: right;\n",
       "    }\n",
       "</style>\n",
       "<table border=\"1\" class=\"dataframe\">\n",
       "  <thead>\n",
       "    <tr style=\"text-align: right;\">\n",
       "      <th></th>\n",
       "      <th>Model</th>\n",
       "      <th>Score</th>\n",
       "    </tr>\n",
       "  </thead>\n",
       "  <tbody>\n",
       "    <tr>\n",
       "      <th>0</th>\n",
       "      <td>Random Forest</td>\n",
       "      <td>0.933333</td>\n",
       "    </tr>\n",
       "    <tr>\n",
       "      <th>4</th>\n",
       "      <td>support vector classifier</td>\n",
       "      <td>0.925000</td>\n",
       "    </tr>\n",
       "    <tr>\n",
       "      <th>1</th>\n",
       "      <td>MLPClassifier</td>\n",
       "      <td>0.891667</td>\n",
       "    </tr>\n",
       "    <tr>\n",
       "      <th>2</th>\n",
       "      <td>KNeighborsClassifier</td>\n",
       "      <td>0.866667</td>\n",
       "    </tr>\n",
       "    <tr>\n",
       "      <th>5</th>\n",
       "      <td>mlp with gridsearch</td>\n",
       "      <td>0.858333</td>\n",
       "    </tr>\n",
       "    <tr>\n",
       "      <th>3</th>\n",
       "      <td>DecisionTreeClassifier</td>\n",
       "      <td>0.816667</td>\n",
       "    </tr>\n",
       "  </tbody>\n",
       "</table>\n",
       "</div>"
      ],
      "text/plain": [
       "                       Model     Score\n",
       "0              Random Forest  0.933333\n",
       "4  support vector classifier  0.925000\n",
       "1              MLPClassifier  0.891667\n",
       "2       KNeighborsClassifier  0.866667\n",
       "5        mlp with gridsearch  0.858333\n",
       "3     DecisionTreeClassifier  0.816667"
      ]
     },
     "execution_count": 18,
     "metadata": {},
     "output_type": "execute_result"
    }
   ],
   "source": [
    "models = pd.DataFrame({\n",
    "    'Model': ['Random Forest', 'MLPClassifier', \n",
    "              'KNeighborsClassifier', 'DecisionTreeClassifier','support vector classifier','mlp with gridsearch'],\n",
    "    'Score': [Acc_RF, Acc_mlp, Acc_KNN, Acc_DTC, Acc_clf, Acc_grid_mlp]})\n",
    "models.sort_values(by='Score', ascending=False)"
   ]
  },
  {
   "cell_type": "code",
   "execution_count": 26,
   "id": "5c69f8ae-449b-4615-b4e0-357c305f54f7",
   "metadata": {},
   "outputs": [
    {
     "name": "stdout",
     "output_type": "stream",
     "text": [
      "                               precision    recall  f1-score   support\n",
      "\n",
      "   Typical aura with migraine       0.60      1.00      0.75         3\n",
      "        Migraine without aura       1.00      0.38      0.55         8\n",
      "            Basilar-type aura       0.94      1.00      0.97        15\n",
      " Sporadic hemiplegic migraine       1.00      0.75      0.86         4\n",
      " Familial hemiplegic migraine       0.67      0.67      0.67         3\n",
      "                        Other       0.95      0.99      0.97        80\n",
      "Typical aura without migraine       1.00      1.00      1.00         7\n",
      "\n",
      "                     accuracy                           0.93       120\n",
      "                    macro avg       0.88      0.83      0.82       120\n",
      "                 weighted avg       0.94      0.93      0.93       120\n",
      "\n"
     ]
    }
   ],
   "source": [
    "from sklearn.metrics import classification_report\n",
    "#target_names = [ '1', '2', '3','4','5']\n",
    "print(classification_report(ytest, ypredrfr, target_names=target_names))"
   ]
  },
  {
   "cell_type": "code",
   "execution_count": 31,
   "id": "eb68cfc2-2773-4873-9197-df6652967337",
   "metadata": {},
   "outputs": [
    {
     "data": {
      "image/png": "[encoded data removed]",
      "text/plain": [
       "<Figure size 432x288 with 1 Axes>"
      ]
     },
     "metadata": {
      "needs_background": "light"
     },
     "output_type": "display_data"
    }
   ],
   "source": [
    "import matplotlib.pyplot as plt\n",
    "plt.hist(df['Type'])\n",
    "plt.xticks(rotation='vertical')\n",
    "plt.show()"
   ]
  },
  {
   "cell_type": "code",
   "execution_count": 39,
   "id": "fdf2d088-3abd-42b6-98a4-4a8693637184",
   "metadata": {},
   "outputs": [
    {
     "data": {
      "text/plain": [
       "[Text(0, 0, 'Typical aura with migraine'),\n",
       " Text(1, 0, 'Migraine without aura'),\n",
       " Text(2, 0, 'Basilar-type aura'),\n",
       " Text(3, 0, 'Sporadic hemiplegic migraine'),\n",
       " Text(4, 0, 'Familial hemiplegic migraine'),\n",
       " Text(5, 0, 'Other'),\n",
       " Text(6, 0, 'Typical aura without migraine')]"
      ]
     },
     "execution_count": 39,
     "metadata": {},
     "output_type": "execute_result"
    },
    {
     "data": {
      "image/png": "[encoded data removed]",
      "text/plain": [
       "<Figure size 1080x720 with 1 Axes>"
      ]
     },
     "metadata": {},
     "output_type": "display_data"
    }
   ],
   "source": [
    "sns.set(rc={'figure.figsize':(15, 10)})\n",
    "chart = sns.countplot(x=df.Type)\n",
    "chart.set_xticklabels(chart.get_xticklabels(), rotation=45)"
   ]
  },
  {
   "cell_type": "code",
   "execution_count": null,
   "id": "9d437ec9-3176-4b90-b35b-a5a039712ab2",
   "metadata": {},
   "outputs": [],
   "source": []
  }
 ],
 "metadata": {
  "kernelspec": {
   "display_name": "Python 3 (ipykernel)",
   "language": "python",
   "name": "python3"
  },
  "language_info": {
   "codemirror_mode": {
    "name": "ipython",
    "version": 3
   },
   "file_extension": ".py",
   "mimetype": "text/x-python",
   "name": "python",
   "nbconvert_exporter": "python",
   "pygments_lexer": "ipython3",
   "version": "3.9.12"
  }
 },
 "nbformat": 4,
 "nbformat_minor": 5
}
